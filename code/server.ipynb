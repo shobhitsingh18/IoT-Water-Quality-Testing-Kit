{
 "cells": [
  {
   "cell_type": "code",
   "execution_count": null,
   "id": "c3c5f211",
   "metadata": {},
   "outputs": [],
   "source": [
    "from flask import Flask, request, jsonify\n",
    "import numpy as np\n",
    "import joblib\n",
    "from tensorflow.keras.models import load_model\n",
    "\n",
    "app = Flask(name)\n",
    "\n",
    "model = load_model(\"lstm_cfu_prediction_model.h5\")\n",
    "scaler_X = joblib.load(\"scaler_X.pkl\")\n",
    "scaler_y = joblib.load(\"scaler_y.pkl\")\n",
    "\n",
    "@app.route('/predict', methods=['GET'])\n",
    "def predict():\n",
    "    r = float(request.args.get('r'))\n",
    "    g = float(request.args.get('g'))\n",
    "    b = float(request.args.get('b'))\n",
    "    \n",
    "    \n",
    "    data = np.array([[r, g, b]])\n",
    "    \n",
    "    \n",
    "    data_scaled = scaler_X.transform(data)\n",
    "    data_reshaped = data_scaled.reshape(1, 4, 3) \n",
    "    \n",
    "    # Make the prediction\n",
    "    predicted_cfu = model.predict(data_reshaped)\n",
    "    predicted_cfu_rescaled = scaler_y.inverse_transform(predicted_cfu)\n",
    "    \n",
    "    \n",
    "    return jsonify(str(predicted_cfu_rescaled[0][0]))  # Return the predicted CFU value\n",
    "\n",
    "if name == 'main':\n",
    "    app.run(host='0.0.0.0', port=5000)"
   ]
  }
 ],
 "metadata": {
  "kernelspec": {
   "display_name": "Python 3 (ipykernel)",
   "language": "python",
   "name": "python3"
  },
  "language_info": {
   "codemirror_mode": {
    "name": "ipython",
    "version": 3
   },
   "file_extension": ".py",
   "mimetype": "text/x-python",
   "name": "python",
   "nbconvert_exporter": "python",
   "pygments_lexer": "ipython3",
   "version": "3.11.5"
  }
 },
 "nbformat": 4,
 "nbformat_minor": 5
}
